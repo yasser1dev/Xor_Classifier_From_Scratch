{
  "nbformat": 4,
  "nbformat_minor": 0,
  "metadata": {
    "colab": {
      "name": "Copie de MultiLayerNN.ipynb",
      "provenance": []
    },
    "kernelspec": {
      "display_name": "Python 3",
      "language": "python",
      "name": "python3"
    },
    "language_info": {
      "codemirror_mode": {
        "name": "ipython",
        "version": 3
      },
      "file_extension": ".py",
      "mimetype": "text/x-python",
      "name": "python",
      "nbconvert_exporter": "python",
      "pygments_lexer": "ipython3",
      "version": "3.7.3"
    }
  },
  "cells": [
    {
      "cell_type": "code",
      "metadata": {
        "id": "Upv-uKuWHjIZ"
      },
      "source": [
        "#@title\n",
        "import numpy as np\n",
        "from tqdm import tqdm\n",
        "import matplotlib.pyplot as plt"
      ],
      "execution_count": null,
      "outputs": []
    },
    {
      "cell_type": "code",
      "metadata": {
        "id": "L9eCulvwHjIf"
      },
      "source": [
        "class MultiLayerNN:\n",
        "   \n",
        "    def __init__(self,epochs,learning_rate):\n",
        "        self.layers=[]\n",
        "        self.epochs=epochs\n",
        "        self.lr=learning_rate\n",
        "        self.activations={\n",
        "            'sigmoid':[self.sigmoid,self.sigmoid_derivate],\n",
        "            'relu':[self.relu,self.relu_derivate]\n",
        "        }\n",
        "        self.error=[]\n",
        "    \n",
        "    def sigmoid(self,f):\n",
        "        return 1/(1+np.exp(-f))\n",
        "    \n",
        "    def sigmoid_derivate(self,predicted):\n",
        "        return predicted*(1-predicted)\n",
        "    \n",
        "    def relu(self,f):\n",
        "        for i in range(f.shape[0]):\n",
        "            for j in range(f.shape[1]):\n",
        "                if(f[i][j]<0):\n",
        "                    f[i][j]=0\n",
        "        return f\n",
        "\n",
        "    \n",
        "    def relu_derivate(self,predicted):\n",
        "        for i in range(predicted.shape[0]):\n",
        "            for j in range(predicted.shape[1]):\n",
        "                if(predicted[i][j]<0):\n",
        "                    predicted[i][j]=0\n",
        "                if(predicted[i][j]>0):\n",
        "                    predicted[i][j]=1\n",
        "\n",
        "        return predicted\n",
        "    \n",
        "    def forwardpass(self,X,y):\n",
        "        samples,features=X.shape\n",
        "        input_data=X\n",
        "        for i in range(len(self.layers)):\n",
        "            layer=self.layers[i]\n",
        "            layer.input=input_data.dot(layer.weights)+layer.bias\n",
        "            layer.output=self.activations[layer.activation][0](layer.input)\n",
        "            input_data=layer.output\n",
        "        \n",
        "        return self.layers[-1].output\n",
        "        \n",
        "    def backpropagation(self,X,y,y_predicted):\n",
        "        layer0,layer1=self.layers[0],self.layers[1]\n",
        "        #======================\n",
        "        dLoss_predicted=self.Loss_derivate(y,y_predicted)\n",
        "        dPredicted_input=self.activations[layer1.activation][1](y_predicted)\n",
        "        delta=dLoss_predicted*dPredicted_input\n",
        "        output_hidden=self.layers[0].output\n",
        "            \n",
        "        dLoss_dw_output=output_hidden.T.dot(delta)\n",
        "        dloss_dbias_out=delta\n",
        "        #====================================== update\n",
        "\n",
        "        self.layers[1].weights-=dLoss_dw_output*self.lr\n",
        "        self.layers[1].bias-=np.sum(-(dloss_dbias_out*self.lr),axis=0,keepdims=True)\n",
        "        #======================================\n",
        "        output_weights=self.layers[1].weights\n",
        "        #print(X.T.shape,delta.shape,output_weights.T.shape,(self.activations[layer0.activation][1](output_hidden)).shape)\n",
        "        dLoss_weights_hidden=X.T.dot(delta.dot(output_weights.T)*self.activations[layer0.activation][1](output_hidden))\n",
        "        #print(X.T.shape,delta.shape,output_weights.T.shape,output_hidden.shape)\n",
        "        dloss_dbias_h=delta.dot(output_weights.T)*self.activations[layer0.activation][1](output_hidden)\n",
        "        #======================================== update\n",
        "        self.layers[0].weights-=dLoss_weights_hidden*self.lr\n",
        "        self.layers[0].bias-=np.sum(-(dloss_dbias_h*self.lr),axis=0,keepdims=True)\n",
        "        \n",
        "        \n",
        "    def Loss(self,y,y_predicted):\n",
        "        return 0.5*(y-y_predicted)**2\n",
        "    \n",
        "    def Loss_derivate(self,y,y_predicted):\n",
        "        return y_predicted-y\n",
        "        \n",
        "    def fit(self,X,y):\n",
        "        for _ in tqdm(range(self.epochs)):\n",
        "            y_predicted=self.forwardpass(X,y)\n",
        "            self.error.append(self.binary_cross_entropy(y,y_predicted))\n",
        "            self.backpropagation(X,y.reshape(-1,1),y_predicted)\n",
        "            \n",
        "   \n",
        "    def binary_cross_entropy(self,y,y_predicted):\n",
        "        return -(1/len(y))*np.sum(y*np.log(y_predicted)+(1-y)*np.log(1-y_predicted))\n",
        "    \n",
        "    def predict(self,X):\n",
        "        input_data=X\n",
        "        for i in range(len(self.layers)):\n",
        "            layer=self.layers[i]\n",
        "            layer.input=input_data.dot(layer.weights)+layer.bias\n",
        "            layer.output=self.activations[layer.activation][0](layer.input)\n",
        "            input_data=layer.output\n",
        "        \n",
        "        return self.layers[-1].output\n",
        "        \n"
      ],
      "execution_count": 441,
      "outputs": []
    },
    {
      "cell_type": "code",
      "metadata": {
        "id": "PR_Q7aCCHjIg"
      },
      "source": [
        "class Layer:\n",
        "    def __init__(self,input_size,number_neuron,activation):\n",
        "        self.weights=np.random.rand(input_size,number_neuron)\n",
        "        self.bias=np.zeros((1,number_neuron))\n",
        "        self.input=np.zeros(number_neuron)\n",
        "        self.output=np.zeros(number_neuron)\n",
        "        self.activation=activation"
      ],
      "execution_count": 442,
      "outputs": []
    },
    {
      "cell_type": "code",
      "metadata": {
        "id": "l5uro7mLHjIh"
      },
      "source": [
        "model=MultiLayerNN(50000,0.01)"
      ],
      "execution_count": 469,
      "outputs": []
    },
    {
      "cell_type": "code",
      "metadata": {
        "id": "Nt_Ey36MHjIi"
      },
      "source": [
        "model.layers=[Layer(2,20,\"sigmoid\"),\n",
        "              Layer(20,1,\"sigmoid\")]"
      ],
      "execution_count": 470,
      "outputs": []
    },
    {
      "cell_type": "code",
      "metadata": {
        "id": "s8fFh--XHjIi"
      },
      "source": [
        "rng = np.random.RandomState(0)\n",
        "X = rng.randn(300, 2)\n",
        "y = np.array(np.logical_xor(X[:, 0] > 0, X[:, 1] > 0),dtype=int)"
      ],
      "execution_count": 471,
      "outputs": []
    },
    {
      "cell_type": "code",
      "metadata": {
        "id": "8JZgHkc1HjIi"
      },
      "source": [
        "from sklearn.model_selection import train_test_split"
      ],
      "execution_count": 472,
      "outputs": []
    },
    {
      "cell_type": "code",
      "metadata": {
        "id": "ZcN67CcsHjIj"
      },
      "source": [
        "X_train,X_test,y_train,y_test=train_test_split(X,y,test_size=0.33,random_state=42)"
      ],
      "execution_count": 473,
      "outputs": []
    },
    {
      "cell_type": "code",
      "metadata": {
        "colab": {
          "base_uri": "https://localhost:8080/"
        },
        "id": "AzA2GCNQHjIj",
        "outputId": "832905aa-c976-4fc0-c9a9-a6604ce7d196"
      },
      "source": [
        "model.fit(X_train,y_train)"
      ],
      "execution_count": 474,
      "outputs": [
        {
          "output_type": "stream",
          "text": [
            "100%|██████████| 50000/50000 [00:31<00:00, 1588.82it/s]\n"
          ],
          "name": "stderr"
        }
      ]
    },
    {
      "cell_type": "code",
      "metadata": {
        "colab": {
          "base_uri": "https://localhost:8080/",
          "height": 281
        },
        "id": "y2ZhqwNnzS1j",
        "outputId": "128631be-d9d0-4c68-e1a2-c8b69c1b0294"
      },
      "source": [
        "plt.plot(np.arange(model.epochs),model.error)"
      ],
      "execution_count": 475,
      "outputs": [
        {
          "output_type": "execute_result",
          "data": {
            "text/plain": [
              "[<matplotlib.lines.Line2D at 0x7f912493d240>]"
            ]
          },
          "metadata": {
            "tags": []
          },
          "execution_count": 475
        },
        {
          "output_type": "display_data",
          "data": {
            "image/png": "[encoded data removed]",
            "text/plain": [
              "<Figure size 432x288 with 1 Axes>"
            ]
          },
          "metadata": {
            "tags": [],
            "needs_background": "light"
          }
        }
      ]
    },
    {
      "cell_type": "code",
      "metadata": {
        "colab": {
          "base_uri": "https://localhost:8080/"
        },
        "id": "6diRnkhOHjIk",
        "outputId": "da4f3fea-0dce-4b17-aa84-df6280c9d4bf"
      },
      "source": [
        "for i in range(2):\n",
        "    print(\"weight : \",model.layers[i].weights,\" bias : \",model.layers[i].bias)"
      ],
      "execution_count": 476,
      "outputs": [
        {
          "output_type": "stream",
          "text": [
            "weight :  [[-12.23164443 -10.7825878    2.66336447   1.56224759   3.29414605\n",
            "   10.08225858 -10.26705264  19.380957   -17.33531284  -9.62863454\n",
            "   12.77689226  10.82163422  45.64231286   0.73448116  11.47615929\n",
            "  -25.25570054   9.23870543   8.40385507   1.72309727  20.08142927]\n",
            " [  8.75422158   5.75090845  -2.6398184   -0.68795357  -3.35039332\n",
            "  -11.17254317  10.45939513 -10.24996659  27.65761112 -18.56071655\n",
            "   -7.68344705 -16.18692069 -13.12982195   1.87188154 -17.95389972\n",
            "  -21.32096805  -6.00355687 -16.42238221   2.07765562  12.08513316]]  bias :  [[ 1.73637057e+01  1.50786276e+01 -3.95484143e-01  2.36780198e-02\n",
            "  -5.01640789e-02  1.69051304e+01  1.73446117e+01  2.26016965e+01\n",
            "  -3.25225242e+01 -2.32465981e+01  1.73169707e+01 -2.16474831e+01\n",
            "  -4.91203720e+01  1.13406792e+00 -2.31975317e+01  3.53237147e+01\n",
            "   1.38501351e+01  2.00338185e+01 -6.52085673e-01  2.54215155e+01]]\n",
            "weight :  [[ -1.88626319]\n",
            " [ -2.31338126]\n",
            " [ -0.11342274]\n",
            " [  0.48820837]\n",
            " [ -0.45537172]\n",
            " [ -4.87092082]\n",
            " [ -4.62874111]\n",
            " [ -4.0580782 ]\n",
            " [  3.96076415]\n",
            " [-10.44580853]\n",
            " [ -5.12817252]\n",
            " [  5.19427502]\n",
            " [  8.31017642]\n",
            " [  1.55423576]\n",
            " [  5.22273304]\n",
            " [ 15.54284964]\n",
            " [ -3.6418252 ]\n",
            " [ -2.99733633]\n",
            " [ -0.40804644]\n",
            " [  9.33370263]]  bias :  [[3.18310798]]\n"
          ],
          "name": "stdout"
        }
      ]
    },
    {
      "cell_type": "code",
      "metadata": {
        "id": "XiNDrsbqHjIk"
      },
      "source": [
        "y_predicted=model.predict(X_test)"
      ],
      "execution_count": 479,
      "outputs": []
    },
    {
      "cell_type": "code",
      "metadata": {
        "id": "4dCjS-WOHjIk"
      },
      "source": [
        "y_predicted=[1 if x>=0.5 else 0 for x in y_predicted]"
      ],
      "execution_count": 480,
      "outputs": []
    },
    {
      "cell_type": "code",
      "metadata": {
        "id": "bhEDErPcHjIk"
      },
      "source": [
        "from sklearn.metrics import confusion_matrix,roc_auc_score,log_loss\n",
        "from mlxtend.plotting import plot_decision_regions"
      ],
      "execution_count": 481,
      "outputs": []
    },
    {
      "cell_type": "code",
      "metadata": {
        "colab": {
          "base_uri": "https://localhost:8080/"
        },
        "id": "715xNW4CHjIl",
        "outputId": "b866855a-839c-4c98-c6cb-c29f383db201"
      },
      "source": [
        "confusion_matrix(y_test,y_predicted)"
      ],
      "execution_count": 482,
      "outputs": [
        {
          "output_type": "execute_result",
          "data": {
            "text/plain": [
              "array([[44,  2],\n",
              "       [24, 29]])"
            ]
          },
          "metadata": {
            "tags": []
          },
          "execution_count": 482
        }
      ]
    },
    {
      "cell_type": "code",
      "metadata": {
        "colab": {
          "base_uri": "https://localhost:8080/"
        },
        "id": "JPapjg9OHjIl",
        "outputId": "81f0d08b-7d05-4ff8-a474-3df88006bb18"
      },
      "source": [
        "roc_auc_score(y_test,y_predicted)"
      ],
      "execution_count": 483,
      "outputs": [
        {
          "output_type": "execute_result",
          "data": {
            "text/plain": [
              "0.7518457752255948"
            ]
          },
          "metadata": {
            "tags": []
          },
          "execution_count": 483
        }
      ]
    },
    {
      "cell_type": "code",
      "metadata": {
        "colab": {
          "base_uri": "https://localhost:8080/",
          "height": 547
        },
        "id": "3rdQbr7MHjIm",
        "outputId": "2752cf9a-0a88-49c1-c22d-2a8e23c1a2c5"
      },
      "source": [
        "fig = plt.figure(figsize=(10,8)) \n",
        "fig = plot_decision_regions(X=X_train, y=y_train, clf=model, legend=2) \n",
        "plt.title(\"MultiLayerNN\")"
      ],
      "execution_count": 484,
      "outputs": [
        {
          "output_type": "stream",
          "text": [
            "/usr/local/lib/python3.6/dist-packages/mlxtend/plotting/decision_regions.py:244: MatplotlibDeprecationWarning: Passing unsupported keyword arguments to axis() will raise a TypeError in 3.3.\n",
            "  ax.axis(xmin=xx.min(), xmax=xx.max(), y_min=yy.min(), y_max=yy.max())\n"
          ],
          "name": "stderr"
        },
        {
          "output_type": "execute_result",
          "data": {
            "text/plain": [
              "Text(0.5, 1.0, 'MultiLayerNN')"
            ]
          },
          "metadata": {
            "tags": []
          },
          "execution_count": 484
        },
        {
          "output_type": "display_data",
          "data": {
            "image/png": "[encoded data removed]",
            "text/plain": [
              "<Figure size 720x576 with 1 Axes>"
            ]
          },
          "metadata": {
            "tags": [],
            "needs_background": "light"
          }
        }
      ]
    }
  ]
}