{
  "nbformat": 4,
  "nbformat_minor": 0,
  "metadata": {
    "colab": {
      "name": "Copie de MultiLayerNN.ipynb",
      "provenance": [],
      "collapsed_sections": [],
      "include_colab_link": true
    },
    "kernelspec": {
      "display_name": "Python 3",
      "language": "python",
      "name": "python3"
    },
    "language_info": {
      "codemirror_mode": {
        "name": "ipython",
        "version": 3
      },
      "file_extension": ".py",
      "mimetype": "text/x-python",
      "name": "python",
      "nbconvert_exporter": "python",
      "pygments_lexer": "ipython3",
      "version": "3.7.3"
    }
  },
  "cells": [
    {
      "cell_type": "markdown",
      "metadata": {
        "id": "view-in-github",
        "colab_type": "text"
      },
      "source": [
        "<a href=\"https://colab.research.google.com/github/yasser1dev/Xor_Classifier_From_Scratch/blob/main/MultiLayerNN_XOR.ipynb\" target=\"_parent\"><img src=\"https://colab.research.google.com/assets/colab-badge.svg\" alt=\"Open In Colab\"/></a>"
      ]
    },
    {
      "cell_type": "code",
      "metadata": {
        "id": "Upv-uKuWHjIZ"
      },
      "source": [
        "#@title\n",
        "import numpy as np\n",
        "from tqdm import tqdm\n",
        "import matplotlib.pyplot as plt"
      ],
      "execution_count": 1,
      "outputs": []
    },
    {
      "cell_type": "code",
      "metadata": {
        "id": "L9eCulvwHjIf"
      },
      "source": [
        "class MultiLayerNN:\n",
        "   \n",
        "    def __init__(self,epochs,learning_rate):\n",
        "        self.layers=[]\n",
        "        self.epochs=epochs\n",
        "        self.lr=learning_rate\n",
        "        self.activations={\n",
        "            'sigmoid':[self.sigmoid,self.sigmoid_derivate],\n",
        "            'relu':[self.relu,self.relu_derivate]\n",
        "        }\n",
        "        self.error=[]\n",
        "    \n",
        "    def sigmoid(self,f):\n",
        "        return 1/(1+np.exp(-f))\n",
        "    \n",
        "    def sigmoid_derivate(self,predicted):\n",
        "        return predicted*(1-predicted)\n",
        "    \n",
        "    def relu(self,f):\n",
        "        for i in range(f.shape[0]):\n",
        "            for j in range(f.shape[1]):\n",
        "                if(f[i][j]<0):\n",
        "                    f[i][j]=0\n",
        "        return f\n",
        "\n",
        "    \n",
        "    def relu_derivate(self,predicted):\n",
        "        for i in range(predicted.shape[0]):\n",
        "            for j in range(predicted.shape[1]):\n",
        "                if(predicted[i][j]<0):\n",
        "                    predicted[i][j]=0\n",
        "                if(predicted[i][j]>0):\n",
        "                    predicted[i][j]=1\n",
        "\n",
        "        return predicted\n",
        "    \n",
        "    def forwardpass(self,X,y):\n",
        "        samples,features=X.shape\n",
        "        input_data=X\n",
        "        for i in range(len(self.layers)):\n",
        "            layer=self.layers[i]\n",
        "            layer.input=input_data.dot(layer.weights)+layer.bias\n",
        "            layer.output=self.activations[layer.activation][0](layer.input)\n",
        "            input_data=layer.output\n",
        "        \n",
        "        return self.layers[-1].output\n",
        "        \n",
        "    def backpropagation(self,X,y,y_predicted):\n",
        "        layer0,layer1=self.layers[0],self.layers[1]\n",
        "        #======================\n",
        "        dLoss_predicted=self.Loss_derivate(y,y_predicted)\n",
        "        dPredicted_input=self.activations[layer1.activation][1](y_predicted)\n",
        "        delta=dLoss_predicted*dPredicted_input\n",
        "        output_hidden=self.layers[0].output\n",
        "        #===============loss hidden\n",
        "\n",
        "        dLoss_dw_output=output_hidden.T.dot(delta)\n",
        "        dloss_dbias_out=delta\n",
        "        #====================================== update\n",
        "\n",
        "        self.layers[1].weights-=dLoss_dw_output*self.lr\n",
        "        self.layers[1].bias-=np.sum((dloss_dbias_out*self.lr),axis=0,keepdims=True)\n",
        "        #======================================\n",
        "        output_weights=self.layers[1].weights\n",
        "\n",
        "        dLoss_weights_hidden=X.T.dot(delta.dot(output_weights.T)*self.activations[layer0.activation][1](output_hidden))\n",
        "\n",
        "        dloss_dbias_h=delta.dot(output_weights.T)*self.activations[layer0.activation][1](output_hidden)\n",
        "        #======================================== update\n",
        "        self.layers[0].weights-=dLoss_weights_hidden*self.lr\n",
        "        self.layers[0].bias-=np.sum((dloss_dbias_h*self.lr),axis=0,keepdims=True)\n",
        "        \n",
        "        \n",
        "    def Loss(self,y,y_predicted):\n",
        "        return 0.5*(y-y_predicted)**2\n",
        "    \n",
        "    def Loss_derivate(self,y,y_predicted):\n",
        "        return y_predicted-y\n",
        "        \n",
        "    def fit(self,X,y):\n",
        "        for _ in tqdm(range(self.epochs)):\n",
        "            y_predicted=self.forwardpass(X,y)\n",
        "            self.error.append(self.binary_cross_entropy(y,y_predicted))\n",
        "            self.backpropagation(X,y.reshape(-1,1),y_predicted)\n",
        "            \n",
        "   \n",
        "    def binary_cross_entropy(self,y,y_predicted):\n",
        "        return -(1/len(y))*np.sum(y*np.log(y_predicted)+(1-y)*np.log(1-y_predicted))\n",
        "    \n",
        "    def predict(self,X):\n",
        "        input_data=X\n",
        "        for i in range(len(self.layers)):\n",
        "            layer=self.layers[i]\n",
        "            layer.input=input_data.dot(layer.weights)+layer.bias\n",
        "            layer.output=self.activations[layer.activation][0](layer.input)\n",
        "            input_data=layer.output\n",
        "        \n",
        "        return self.layers[-1].output\n",
        "        \n"
      ],
      "execution_count": 201,
      "outputs": []
    },
    {
      "cell_type": "code",
      "metadata": {
        "id": "PR_Q7aCCHjIg"
      },
      "source": [
        "class Layer:\n",
        "    def __init__(self,input_size,number_neuron,activation):\n",
        "        self.weights=np.random.uniform(-1,1,(input_size,number_neuron))\n",
        "        self.bias=np.random.uniform(-1,1,(1,number_neuron))\n",
        "        self.input=np.zeros(number_neuron)\n",
        "        self.output=np.zeros(number_neuron)\n",
        "        self.activation=activation"
      ],
      "execution_count": 202,
      "outputs": []
    },
    {
      "cell_type": "code",
      "metadata": {
        "id": "l5uro7mLHjIh"
      },
      "source": [
        "model=MultiLayerNN(10000,0.01)"
      ],
      "execution_count": 291,
      "outputs": []
    },
    {
      "cell_type": "code",
      "metadata": {
        "id": "Nt_Ey36MHjIi"
      },
      "source": [
        "model.layers=[Layer(2,4,\"sigmoid\"),\n",
        "              Layer(4,1,\"sigmoid\")]"
      ],
      "execution_count": 292,
      "outputs": []
    },
    {
      "cell_type": "code",
      "metadata": {
        "id": "s8fFh--XHjIi"
      },
      "source": [
        "rng = np.random.RandomState(0)\n",
        "X = rng.randn(300, 2)\n",
        "y = np.array(np.logical_xor(X[:, 0] > 0, X[:, 1] > 0),dtype=int)"
      ],
      "execution_count": 293,
      "outputs": []
    },
    {
      "cell_type": "code",
      "metadata": {
        "id": "8JZgHkc1HjIi"
      },
      "source": [
        "from sklearn.model_selection import train_test_split"
      ],
      "execution_count": 294,
      "outputs": []
    },
    {
      "cell_type": "code",
      "metadata": {
        "id": "ZcN67CcsHjIj"
      },
      "source": [
        "X_train,X_test,y_train,y_test=train_test_split(X,y,test_size=0.33,random_state=42)"
      ],
      "execution_count": 295,
      "outputs": []
    },
    {
      "cell_type": "code",
      "metadata": {
        "colab": {
          "base_uri": "https://localhost:8080/"
        },
        "id": "AzA2GCNQHjIj",
        "outputId": "081d0589-9f51-4065-f0fd-9486172c3415"
      },
      "source": [
        "model.fit(X_train,y_train)"
      ],
      "execution_count": 296,
      "outputs": [
        {
          "output_type": "stream",
          "text": [
            "100%|██████████| 10000/10000 [00:03<00:00, 2739.80it/s]\n"
          ],
          "name": "stderr"
        }
      ]
    },
    {
      "cell_type": "code",
      "metadata": {
        "colab": {
          "base_uri": "https://localhost:8080/"
        },
        "id": "6diRnkhOHjIk",
        "outputId": "15982f94-63fd-465f-887b-843b963b7836"
      },
      "source": [
        "for i in range(2):\n",
        "    print(\"weight : \",model.layers[i].weights,\" bias : \",model.layers[i].bias)"
      ],
      "execution_count": 298,
      "outputs": [
        {
          "output_type": "stream",
          "text": [
            "weight :  [[-3.06965366 -3.25907469  2.14351778  3.28131198]\n",
            " [ 2.60014256  3.40684058  2.94958032  3.09037561]]  bias :  [[ 2.94306151 -2.94865646  2.46713858 -2.7908879 ]]\n",
            "weight :  [[-12.98834276]\n",
            " [ 10.96980653]\n",
            " [ 12.14258662]\n",
            " [-12.35170585]]  bias :  [[1.15506478]]\n"
          ],
          "name": "stdout"
        }
      ]
    },
    {
      "cell_type": "code",
      "metadata": {
        "id": "XiNDrsbqHjIk"
      },
      "source": [
        "y_predicted=model.predict(X_test)"
      ],
      "execution_count": 299,
      "outputs": []
    },
    {
      "cell_type": "code",
      "metadata": {
        "id": "4dCjS-WOHjIk"
      },
      "source": [
        "y_predicted=[1 if x>=0.5 else 0 for x in y_predicted]"
      ],
      "execution_count": 300,
      "outputs": []
    },
    {
      "cell_type": "code",
      "metadata": {
        "id": "bhEDErPcHjIk"
      },
      "source": [
        "from sklearn.metrics import confusion_matrix,roc_auc_score,log_loss,accuracy_score\n",
        "from mlxtend.plotting import plot_decision_regions"
      ],
      "execution_count": 301,
      "outputs": []
    },
    {
      "cell_type": "code",
      "metadata": {
        "colab": {
          "base_uri": "https://localhost:8080/"
        },
        "id": "1U9_2XutsjRe",
        "outputId": "61f9238c-368d-41a5-c42b-dfefafc82405"
      },
      "source": [
        "accuracy_score(y_test,y_predicted)"
      ],
      "execution_count": 302,
      "outputs": [
        {
          "output_type": "execute_result",
          "data": {
            "text/plain": [
              "0.9191919191919192"
            ]
          },
          "metadata": {
            "tags": []
          },
          "execution_count": 302
        }
      ]
    },
    {
      "cell_type": "code",
      "metadata": {
        "colab": {
          "base_uri": "https://localhost:8080/"
        },
        "id": "715xNW4CHjIl",
        "outputId": "45994c9b-19cf-4cb6-ea35-e9cfe3707d9d"
      },
      "source": [
        "confusion_matrix(y_test,y_predicted)"
      ],
      "execution_count": 303,
      "outputs": [
        {
          "output_type": "execute_result",
          "data": {
            "text/plain": [
              "array([[45,  1],\n",
              "       [ 7, 46]])"
            ]
          },
          "metadata": {
            "tags": []
          },
          "execution_count": 303
        }
      ]
    },
    {
      "cell_type": "code",
      "metadata": {
        "colab": {
          "base_uri": "https://localhost:8080/"
        },
        "id": "JPapjg9OHjIl",
        "outputId": "978fe9d1-41b3-4c6d-c8c4-12d3d45816bb"
      },
      "source": [
        "roc_auc_score(y_test,y_predicted)"
      ],
      "execution_count": 304,
      "outputs": [
        {
          "output_type": "execute_result",
          "data": {
            "text/plain": [
              "0.9230926989335522"
            ]
          },
          "metadata": {
            "tags": []
          },
          "execution_count": 304
        }
      ]
    },
    {
      "cell_type": "code",
      "metadata": {
        "colab": {
          "base_uri": "https://localhost:8080/",
          "height": 567
        },
        "id": "3rdQbr7MHjIm",
        "outputId": "b437c459-7709-4ce0-a216-4b2f2872bd77"
      },
      "source": [
        "fig = plt.figure(figsize=(10,8)) \n",
        "fig = plot_decision_regions(X=X_train, y=y_train, clf=model, legend=2) \n",
        "plt.title(\"MultiLayerNN\")"
      ],
      "execution_count": 305,
      "outputs": [
        {
          "output_type": "stream",
          "text": [
            "/usr/local/lib/python3.6/dist-packages/mlxtend/plotting/decision_regions.py:244: MatplotlibDeprecationWarning: Passing unsupported keyword arguments to axis() will raise a TypeError in 3.3.\n",
            "  ax.axis(xmin=xx.min(), xmax=xx.max(), y_min=yy.min(), y_max=yy.max())\n"
          ],
          "name": "stderr"
        },
        {
          "output_type": "execute_result",
          "data": {
            "text/plain": [
              "Text(0.5, 1.0, 'MultiLayerNN')"
            ]
          },
          "metadata": {
            "tags": []
          },
          "execution_count": 305
        },
        {
          "output_type": "display_data",
          "data": {
            "image/png": "[encoded data removed]",
            "text/plain": [
              "<Figure size 720x576 with 1 Axes>"
            ]
          },
          "metadata": {
            "tags": [],
            "needs_background": "light"
          }
        }
      ]
    },
    {
      "cell_type": "code",
      "metadata": {
        "id": "iw-NZO7vpLQt"
      },
      "source": [
        ""
      ],
      "execution_count": null,
      "outputs": []
    }
  ]
}